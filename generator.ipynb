{
 "cells": [
  {
   "cell_type": "code",
   "execution_count": 6,
   "metadata": {
    "collapsed": true
   },
   "outputs": [],
   "source": [
    "import math\n",
    "from pathlib import Path\n",
    "import random\n",
    "\n",
    "import rdflib"
   ]
  },
  {
   "cell_type": "code",
   "execution_count": 19,
   "outputs": [],
   "source": [
    "datasets = [\n",
    "    {\n",
    "        'name': 'triples',\n",
    "        'type': 'triples',\n",
    "        'len': 132_432,\n",
    "    }\n",
    "]"
   ],
   "metadata": {
    "collapsed": false
   }
  },
  {
   "cell_type": "code",
   "execution_count": 21,
   "outputs": [],
   "source": [
    "P1 = rdflib.Namespace('https://name-example/p1/')\n",
    "P2 = rdflib.Namespace('https://name-example/p2#')\n",
    "P3 = rdflib.Namespace('https://name-example-p3/')\n",
    "\n",
    "for dataset in datasets:\n",
    "    rng = random.Random(123)\n",
    "    data_dir = Path('data', dataset['name'])\n",
    "    data_dir.mkdir(parents=True, exist_ok=True)\n",
    "    dir_levels = math.floor(math.log10(dataset['len']) / 3)\n",
    "    for i in range(dataset['len']):\n",
    "        filename = f'{i:010}'\n",
    "        item_dir = data_dir\n",
    "        for d in range(-dir_levels, 0):\n",
    "            item_dir = Path(item_dir, filename[3 * (d - 1) : 3 * d])\n",
    "\n",
    "        g = rdflib.Graph()\n",
    "        n_items = rng.randint(1, 10)\n",
    "        for j in range(n_items):\n",
    "            g.add((\n",
    "                rdflib.URIRef(P1 + str(j)),\n",
    "                rdflib.URIRef(P2 + 'prop1'),\n",
    "                rdflib.URIRef(P1 + str(n_items - j - 1))\n",
    "            ))\n",
    "            g.add((\n",
    "                rdflib.URIRef(P1 + str(j)),\n",
    "                rdflib.URIRef(P2 + 'prop2'),\n",
    "                rdflib.Literal(rng.random(), datatype=rdflib.XSD.decimal)\n",
    "            ))\n",
    "\n",
    "        item_dir.mkdir(parents=True, exist_ok=True)\n",
    "        with open(Path(item_dir, filename + '.ttl'), 'wb') as fp:\n",
    "            g.serialize(fp, format='ttl')\n"
   ],
   "metadata": {
    "collapsed": false
   }
  }
 ],
 "metadata": {
  "kernelspec": {
   "display_name": "Python 3",
   "language": "python",
   "name": "python3"
  },
  "language_info": {
   "codemirror_mode": {
    "name": "ipython",
    "version": 2
   },
   "file_extension": ".py",
   "mimetype": "text/x-python",
   "name": "python",
   "nbconvert_exporter": "python",
   "pygments_lexer": "ipython2",
   "version": "2.7.6"
  }
 },
 "nbformat": 4,
 "nbformat_minor": 0
}
